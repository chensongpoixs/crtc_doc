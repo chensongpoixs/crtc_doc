{
 "cells": [
  {
   "cell_type": "markdown",
   "id": "12cb2857",
   "metadata": {},
   "source": [
    " \n",
    " # WebRTC媒体协商\n",
    " \n",
    " \n",
    " ## [一、SDP协议](SDP)\n",
    " \n",
    " \n",
    " <font color='red'>SDP中WebRTC做了哪些修改</font>\n",
    " \n",
    " 1.ice\n",
    " 2. \n",
    " \n",
    "## 二、SDP内容分类\n",
    "\n",
    "### 1、SDP内容分类\n",
    "\n",
    "![SDP内容分类](./img/SDP内容分类.jpg)\n",
    "\n",
    "\n",
    "### 2、WebRTC对SDP的分类\n",
    "\n",
    "![WebRTC对SDP的分类](./img/webrtc_sdp_struct.jpg)\n",
    " \n",
    "##  三、Offer的创建\n",
    " \n",
    " \n",
    "## 四、Answer的创建\n",
    " \n",
    " \n",
    "## 五、SetLocalDescription做了哪些事儿？\n",
    " \n",
    " \n",
    "## 六、SetRemoteDescription又做了啥？\n",
    " \n",
    " \n",
    " \n",
    " "
   ]
  },
  {
   "cell_type": "code",
   "execution_count": null,
   "id": "fe2e9131",
   "metadata": {},
   "outputs": [],
   "source": []
  }
 ],
 "metadata": {
  "kernelspec": {
   "display_name": "Python 3 (ipykernel)",
   "language": "python",
   "name": "python3"
  },
  "language_info": {
   "codemirror_mode": {
    "name": "ipython",
    "version": 3
   },
   "file_extension": ".py",
   "mimetype": "text/x-python",
   "name": "python",
   "nbconvert_exporter": "python",
   "pygments_lexer": "ipython3",
   "version": "3.9.12"
  }
 },
 "nbformat": 4,
 "nbformat_minor": 5
}
