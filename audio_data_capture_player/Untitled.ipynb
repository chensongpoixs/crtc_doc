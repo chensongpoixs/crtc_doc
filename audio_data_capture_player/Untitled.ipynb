{
 "cells": [
  {
   "cell_type": "markdown",
   "id": "5c6e3710",
   "metadata": {},
   "source": [
    "# WebRTC源码分析之音频InitRecording\n",
    "\n",
    "## 一、时间计算两个函数\n",
    "\n",
    "```cpp\n",
    "\n",
    "typedef union _LARGE_INTEGER {\n",
    "    struct {\n",
    "        DWORD LowPart;\n",
    "        LONG HighPart;\n",
    "    } DUMMYSTRUCTNAME;\n",
    "    struct { // used \n",
    "        DWORD LowPart;\n",
    "        LONG HighPart;\n",
    "    } u;\n",
    "    LONGLONG QuadPart;\n",
    "} LARGE_INTEGER;\n",
    "\n",
    "//1. 获取内部计时器的时钟频率、即每秒滴答数\n",
    "WINBASEAPI\n",
    "BOOL\n",
    "WINAPI\n",
    "QueryPerformanceFrequency(\n",
    "    _Out_ LARGE_INTEGER* lpFrequency\n",
    "    );\n",
    "// 2. 获得从计算机开启之后得滴答数\n",
    "WINBASEAPI\n",
    "BOOL\n",
    "WINAPI\n",
    "QueryPerformanceCounter(\n",
    "    _Out_ LARGE_INTEGER* lpPerformanceCount\n",
    "    );\n",
    "\n",
    "\n",
    "\n",
    "```\n",
    "\n",
    "## 二、 初始化录音设备得流程\n",
    "\n",
    "![init_recoreding_device.jpg](./img/init_recoreding_device.jpg)"
   ]
  },
  {
   "cell_type": "code",
   "execution_count": null,
   "id": "03ac4b69",
   "metadata": {},
   "outputs": [],
   "source": []
  }
 ],
 "metadata": {
  "kernelspec": {
   "display_name": "Python 3 (ipykernel)",
   "language": "python",
   "name": "python3"
  },
  "language_info": {
   "codemirror_mode": {
    "name": "ipython",
    "version": 3
   },
   "file_extension": ".py",
   "mimetype": "text/x-python",
   "name": "python",
   "nbconvert_exporter": "python",
   "pygments_lexer": "ipython3",
   "version": "3.9.12"
  }
 },
 "nbformat": 4,
 "nbformat_minor": 5
}
