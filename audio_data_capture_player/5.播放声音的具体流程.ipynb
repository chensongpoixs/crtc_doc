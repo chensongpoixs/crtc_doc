{
 "cells": [
  {
   "cell_type": "markdown",
   "id": "5dae050d",
   "metadata": {},
   "source": [
    "# 播放声音的具体流程\n",
    "\n",
    "\n",
    "## 一、启动扬声器流程\n",
    "\n",
    "![启动扬声器流程](./img/start_audio_player.jpg)\n",
    "\n",
    "## 二、启动音频播放线程  （StartPlayout方法播放线程的流程）\n",
    "\n",
    "![启动音频播放线程](./img/start_audio_player_thread.jpg)\n",
    "\n",
    "## 三、 播放线程的控制\n",
    "\n",
    "![播放线程的控制](./img/audio_player_thread_control.jpg)\n",
    "\n",
    "有数据就运行， 没有数据就等待"
   ]
  },
  {
   "cell_type": "code",
   "execution_count": null,
   "id": "d611e71d",
   "metadata": {},
   "outputs": [],
   "source": []
  }
 ],
 "metadata": {
  "kernelspec": {
   "display_name": "Python 3 (ipykernel)",
   "language": "python",
   "name": "python3"
  },
  "language_info": {
   "codemirror_mode": {
    "name": "ipython",
    "version": 3
   },
   "file_extension": ".py",
   "mimetype": "text/x-python",
   "name": "python",
   "nbconvert_exporter": "python",
   "pygments_lexer": "ipython3",
   "version": "3.9.12"
  }
 },
 "nbformat": 4,
 "nbformat_minor": 5
}
